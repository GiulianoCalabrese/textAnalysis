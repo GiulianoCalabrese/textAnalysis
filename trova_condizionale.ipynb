{
 "cells": [
  {
   "cell_type": "markdown",
   "metadata": {},
   "source": [
    "# Programma per il Procione malandrino\n",
    ">- Devi eseguire ogni casella usando i tasti \"ENTER\" + \"SHIFT\""
   ]
  },
  {
   "cell_type": "code",
   "execution_count": 7,
   "metadata": {
    "collapsed": false
   },
   "outputs": [],
   "source": [
    "import pandas as pd\n",
    "import numpy as np\n",
    "import os"
   ]
  },
  {
   "cell_type": "markdown",
   "metadata": {},
   "source": [
    ">- Al posto di chemin_texte devi mettere l'indirizzo della cartella del corpus. Per trovarlo devi fare click \n",
    "destro col mouse sulla cartella e poi scegli proprietà. Sulla finestra ti apparira l'indirizzo della cartella\n",
    "e tu dovrai fare copia e incolla."
   ]
  },
  {
   "cell_type": "code",
   "execution_count": 11,
   "metadata": {
    "collapsed": false
   },
   "outputs": [
    {
     "data": {
      "text/plain": [
       "'C:\\\\Users\\\\Desktop\\\\corpus_Pavone'"
      ]
     },
     "execution_count": 11,
     "metadata": {},
     "output_type": "execute_result"
    }
   ],
   "source": [
    "chemin_texte = \"C:\\Users\\Desktop\\corpus_Pavone\"\n",
    "chemin_texte = \"C:\\Users\\Desktop\\corpus_Pavone\"\n",
    "chemin_texte"
   ]
  },
  {
   "cell_type": "code",
   "execution_count": 12,
   "metadata": {
    "collapsed": false
   },
   "outputs": [],
   "source": [
    "def find(my_path, my_ext, string_to_find, titolo_file):\n",
    "    dirs = os.listdir(my_path)\n",
    "    longer = len(string_to_find)\n",
    "    totale = []\n",
    "    path = \"C:\\Users\\Desktop\\\\\" + titolo_file + \".txt\"\n",
    "    mon_fichier = open(path,'a') \n",
    "    \n",
    "    for file in dirs:\n",
    "        count = 0\n",
    "        quantita = 0\n",
    "        if file[(len(file) - len(my_ext)):] == my_ext :\n",
    "            print \"\\n\"\n",
    "            print(file)\n",
    "            print \"\\n\" \n",
    "            mon_fichier.write(\"\\n\")\n",
    "            mon_fichier.write(file)\n",
    "            mon_fichier.write(\"\\n\")\n",
    "            with open(my_path + \"\\\\\" + file,'r') as file_in :\n",
    "                for line in file_in:\n",
    "                    x=line\n",
    "                    count = count + 1\n",
    "                    indice = x.find(string_to_find)\n",
    "                    for i in range(len(x)):\n",
    "                        if (indice != -1 ) and (ord(x[indice+ longer])>122 or ord(x[indice+ longer])<65) :\n",
    "                            print \" the line %d\"%(count)\n",
    "                            quantita += 1\n",
    "                            print x[indice+longer-30:indice+longer+30]\n",
    "                            print \"\\n\"\n",
    "                            mon_fichier.write(\" the line %d\"%(count))\n",
    "                            mon_fichier.write(x[indice+longer-30:indice+longer+30])\n",
    "                            mon_fichier.write(\"\\n\")\n",
    "                            x = x[indice+longer:]\n",
    "                            indice = x.find(string_to_find)                        \n",
    "            totale += [quantita]\n",
    "            mon_fichier.write(\"\\n\")\n",
    "            mon_fichier.write(\"quantita = %d\"%(quantita))\n",
    "            mon_fichier.write(\"\\n\")\n",
    "            mon_fichier.write(\"\\n\")\n",
    "    mon_fichier.close()\n",
    "    return totale\n"
   ]
  },
  {
   "cell_type": "markdown",
   "metadata": {},
   "source": [
    ">- Ora puoi divertirti con la casella qui sotto. Per utilizzarla devi cambiare 'ebbe' con la sillaba che cerchi\n",
    "per le parole al condizionale (per esempio puoi mettere 'rait').   \n",
    "\n",
    ">- ATTENTO A MANTENERE LE VIRGOLETTE.\n",
    "\n",
    ">- Una volta eseguito la funzione find, il programma ti dira in quale linea e testo ha trovato delle parole finendo con quella sillaba alla fine della parola e ti metterà la parola trovata alla fine della linea. Alla fine dei risultati avrai una lista (per esempio \"[0,225]\") che ti indica il numero di volte che ha trovato delle parole nel testo 1 e il numero di volte nel testo 2.\n",
    "\n",
    ">- Malandrino (o un altro nome che vuoi tu) sarà il nome del file sul desktop nel quale ci saranno i risultati del calcolo."
   ]
  },
  {
   "cell_type": "code",
   "execution_count": 13,
   "metadata": {
    "collapsed": false
   },
   "outputs": [
    {
     "name": "stdout",
     "output_type": "stream",
     "text": [
      "\n",
      "\n",
      "Corpus_francese_Finale.txt\n",
      "\n",
      "\n",
      "\n",
      "\n",
      "Corpus_italiano_Finale.txt\n",
      "\n",
      "\n",
      " the line 132\n",
      "nte in questi momenti di crisi economica, che non racconta f\n",
      "\n",
      "\n",
      " the line 132\n",
      "''Per quanto riguarda la crisi Irisbus - ha infine detto il \n",
      "\n",
      "\n",
      " the line 205\n",
      "glio 2013 a fronte della crisi in corso, ma la riunione si e\n",
      "\n",
      "\n",
      " the line 211\n",
      "c'� lavoro a causa della crisi.\n",
      "\n",
      "\n",
      "\n",
      " the line 853\n",
      "a � entrato in una grave crisi e quello italiano � crollato \n",
      "\n",
      "\n",
      " the line 989\n",
      "azione straordinaria per crisi dal 14 gennaio scorso tutti e\n",
      "\n",
      "\n",
      " the line 991\n",
      "tedeschi e che sconta la crisi di mercato. Nel secondo di un\n",
      "\n",
      "\n",
      " the line 994\n",
      "\n",
      "\n",
      "\n",
      " the line 1004\n",
      "ali� per discutere della crisi che sta attraversando il comp\n",
      "\n",
      "\n",
      " the line 1019\n",
      " a 1,8 per effetto della crisi dei mercati europei. Di conse\n",
      "\n",
      "\n",
      " the line 1033\n",
      "i sono molteplici, dalla crisi economica (in primis), al car\n",
      "\n",
      "\n",
      " the line 1042\n",
      "uto che vuole battere la crisi.\n",
      "\n",
      "\n",
      "\n",
      " the line 1071\n",
      "ica che nel periodo ante-crisi, nel 2007, il mercato dell'au\n",
      "\n",
      "\n",
      " the line 1073\n",
      "00mila unit� prima della crisi. Pesante calo anche per Finla\n",
      "\n",
      "\n",
      " the line 1084\n",
      "io-bassa costretta dalla crisi a cercare di spendere sempre \n",
      "\n",
      "\n",
      " the line 1128\n",
      "\n",
      "\n",
      "\n",
      " the line 1171\n",
      "i nuovi in un mercato in crisi che di per s� non � ricettivo\n",
      "\n",
      "\n",
      " the line 1200\n",
      "eso a fare utili dopo la crisi del 2009 e abbia riguadagnato\n",
      "\n",
      "\n",
      " the line 1209\n",
      "tenuti tra quelli pi� in crisi come, per esempio, Fiat. Le s\n",
      "\n",
      "\n",
      " the line 1209\n",
      "2011), ma nel mercato in crisi il costruttore � riuscito a m\n",
      "\n",
      "\n",
      " the line 1326\n",
      "ista\" da cui era nata la crisi degli anni trenta e la creazi\n",
      "\n",
      "\n",
      " the line 1359\n",
      " al 2015 alla luce della crisi del mercato pubblicitario. La\n",
      "\n",
      "\n",
      " the line 1392\n",
      "everage soffre di pi� la crisi dei consumi. E osservando i b\n",
      "\n",
      "\n",
      " the line 1451\n",
      "per nulla liquidi con la crisi finanziaria del dopo-Lehman e\n",
      "\n",
      "\n",
      " the line 1526\n",
      "fermato ieri - e dopo la crisi di Lehman, � stato dato uno s\n",
      "\n",
      "\n",
      " the line 1596\n",
      "nti. Inutile dire che la crisi economica ha falcidiato il va\n",
      "\n",
      "\n",
      " the line 1596\n",
      " in pi� si � aggiunta la crisi \"strutturale\" dell'editoria c\n",
      "\n",
      "\n",
      " the line 1659\n",
      "nvocazione del tavolo di crisi al Mise, nei giorni scorsi � \n",
      "\n",
      "\n",
      " the line 1664\n",
      "a e che si riacutizzi la crisi dei debiti sovrani. Fra poco \n",
      "\n",
      "\n",
      " the line 1709\n",
      ". Allora sembrava che la crisi dell'asset management non sol\n",
      "\n",
      "\n",
      " the line 1793\n",
      "\n",
      "\n",
      "\n",
      " the line 1795\n",
      "dall'inizio della grande crisi finanziaria, passati ad addit\n",
      "\n",
      "\n",
      " the line 1800\n",
      "lo del 2008, prima della crisi finanziaria. Nel 2011, second\n",
      "\n",
      "\n",
      " the line 1876\n",
      "i mercato anche nel dopo-crisi, guardano a una separazione n\n",
      "\n",
      "\n",
      " the line 1887\n",
      "alato in area 30% con la crisi del debito sovrano europeo, i\n",
      "\n",
      "\n",
      " the line 1950\n",
      "\n",
      "\n",
      "\n",
      " the line 1950\n",
      "one) � un segnale di una crisi pi� generale, quella del sist\n",
      "\n",
      "\n",
      " the line 1952\n",
      " USA e che ha causato la crisi dei mutui subprime. Poi abbia\n",
      "\n",
      "\n",
      " the line 1955\n",
      "rivati Quando scoppi� la crisi dei mutui subprime si disse c\n",
      "\n",
      "\n",
      " the line 2294\n",
      "er reggere al peso della crisi, si stanno aprendo ovunque.\n",
      "\n",
      "\n",
      "\n",
      " the line 2298\n",
      "inutile non pensare alla crisi spagnola. O per meglio dire a\n",
      "\n",
      "\n",
      " the line 2575\n",
      "entre contestualmente la crisi lo ha fatto scendere in Europ\n",
      "\n",
      "\n",
      " the line 2590\n",
      "anno sofferto la recente crisi di fiducia in modo sproporzio\n",
      "\n",
      "\n",
      " the line 2618\n",
      "quale si discuter� della crisi della Grecia e di Cipro, ma a\n",
      "\n",
      "\n",
      " the line 2624\n",
      "ncontro si parler� della crisi della Grecia e di Cipro, ma a\n",
      "\n",
      "\n",
      " the line 2986\n",
      "cite a tenere testa alla crisi. In sostanza il mercato andr�\n",
      "\n",
      "\n",
      " the line 3214\n",
      " entro 1.33/1.35 ottimo, crisi non superata, peggio evitato \n",
      "\n",
      "\n",
      " the line 3253\n",
      "di mercato, reduce dalla crisi del debito nell�area euro, po\n",
      "\n",
      "\n",
      " the line 3276\n",
      "l punto debole di questa crisi politica sono le banche, che \n",
      "\n",
      "\n",
      " the line 3381\n",
      "chio che si riaccenda la crisi dell�area euro, dal momento c\n",
      "\n",
      "\n",
      "\n",
      "\n",
      "stu_cazz.txt\n",
      "\n",
      "\n"
     ]
    },
    {
     "data": {
      "text/plain": [
       "[0, 50, 0]"
      ]
     },
     "execution_count": 13,
     "metadata": {},
     "output_type": "execute_result"
    }
   ],
   "source": [
    "find(chemin_texte, '.txt', 'crisi', 'Malandrino')"
   ]
  },
  {
   "cell_type": "code",
   "execution_count": null,
   "metadata": {
    "collapsed": false
   },
   "outputs": [],
   "source": []
  },
  {
   "cell_type": "code",
   "execution_count": 51,
   "metadata": {
    "collapsed": false
   },
   "outputs": [
    {
     "data": {
      "text/plain": [
       "'C:\\\\Users\\\\Desktop\\\\Malandrino.txt'"
      ]
     },
     "execution_count": 51,
     "metadata": {},
     "output_type": "execute_result"
    }
   ],
   "source": []
  },
  {
   "cell_type": "code",
   "execution_count": null,
   "metadata": {
    "collapsed": true
   },
   "outputs": [],
   "source": []
  },
  {
   "cell_type": "code",
   "execution_count": null,
   "metadata": {
    "collapsed": true
   },
   "outputs": [],
   "source": []
  },
  {
   "cell_type": "code",
   "execution_count": null,
   "metadata": {
    "collapsed": true
   },
   "outputs": [],
   "source": []
  }
 ],
 "metadata": {
  "kernelspec": {
   "display_name": "Python 2",
   "language": "python",
   "name": "python2"
  },
  "language_info": {
   "codemirror_mode": {
    "name": "ipython",
    "version": 2
   },
   "file_extension": ".py",
   "mimetype": "text/x-python",
   "name": "python",
   "nbconvert_exporter": "python",
   "pygments_lexer": "ipython2",
   "version": "2.7.10"
  }
 },
 "nbformat": 4,
 "nbformat_minor": 0
}
